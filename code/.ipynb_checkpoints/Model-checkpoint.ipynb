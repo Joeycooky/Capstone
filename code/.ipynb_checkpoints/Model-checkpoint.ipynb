{
 "cells": [
  {
   "cell_type": "code",
   "execution_count": 1,
   "id": "ae1144a5",
   "metadata": {},
   "outputs": [],
   "source": [
    "import numpy as np\n",
    "import pandas as pd\n",
    "import os\n",
    "import re\n",
    "from nltk.corpus import stopwords\n",
    "from sklearn.model_selection import train_test_split, GridSearchCV\n",
    "import matplotlib.pyplot as plt\n",
    "import seaborn as sns\n",
    "\n",
    "import tensorflow as tf\n",
    "from tensorflow.python.compiler.mlcompute import mlcompute\n",
    "from tensorflow.python.framework.ops import disable_eager_execution\n",
    "from tensorflow.keras.preprocessing.text import Tokenizer\n",
    "from tensorflow.keras.preprocessing.sequence import pad_sequences\n",
    "from tensorflow.keras import regularizers\n",
    "from tensorflow.keras.models import Sequential\n",
    "from tensorflow.keras.optimizers.schedules import ExponentialDecay\n",
    "from tensorflow.keras.optimizers import Adam\n",
    "from tensorflow.keras.layers import Dense, Dropout, Activation, MaxPooling1D, Conv1D, LSTM, Embedding, BatchNormalization, ReLU\n",
    "from tensorflow.keras.callbacks import EarlyStopping, ReduceLROnPlateau, LearningRateScheduler, ModelCheckpoint\n",
    "from tensorflow.keras.wrappers.scikit_learn import KerasClassifier\n",
    "from tensorflow.keras import utils"
   ]
  },
  {
   "cell_type": "code",
   "execution_count": 2,
   "id": "b76ba798",
   "metadata": {},
   "outputs": [
    {
     "data": {
      "text/plain": [
       "True"
      ]
     },
     "execution_count": 2,
     "metadata": {},
     "output_type": "execute_result"
    }
   ],
   "source": [
    "mlcompute.is_apple_mlc_enabled()"
   ]
  },
  {
   "cell_type": "code",
   "execution_count": 3,
   "id": "08a4e64f",
   "metadata": {},
   "outputs": [
    {
     "data": {
      "text/plain": [
       "True"
      ]
     },
     "execution_count": 3,
     "metadata": {},
     "output_type": "execute_result"
    }
   ],
   "source": [
    "mlcompute.is_tf_compiled_with_apple_mlc()"
   ]
  },
  {
   "cell_type": "code",
   "execution_count": 4,
   "id": "7989062c",
   "metadata": {
    "scrolled": true
   },
   "outputs": [
    {
     "data": {
      "text/plain": [
       "False"
      ]
     },
     "execution_count": 4,
     "metadata": {},
     "output_type": "execute_result"
    }
   ],
   "source": [
    "disable_eager_execution()\n",
    "mlcompute.set_mlc_device(device_name='gpu')\n",
    "tf.executing_eagerly()"
   ]
  },
  {
   "cell_type": "code",
   "execution_count": 5,
   "id": "25b45545",
   "metadata": {
    "scrolled": false
   },
   "outputs": [
    {
     "data": {
      "text/html": [
       "<div>\n",
       "<style scoped>\n",
       "    .dataframe tbody tr th:only-of-type {\n",
       "        vertical-align: middle;\n",
       "    }\n",
       "\n",
       "    .dataframe tbody tr th {\n",
       "        vertical-align: top;\n",
       "    }\n",
       "\n",
       "    .dataframe thead th {\n",
       "        text-align: right;\n",
       "    }\n",
       "</style>\n",
       "<table border=\"1\" class=\"dataframe\">\n",
       "  <thead>\n",
       "    <tr style=\"text-align: right;\">\n",
       "      <th></th>\n",
       "      <th>tweet_id</th>\n",
       "      <th>airline_sentiment</th>\n",
       "      <th>airline_sentiment_confidence</th>\n",
       "      <th>negativereason</th>\n",
       "      <th>negativereason_confidence</th>\n",
       "      <th>airline</th>\n",
       "      <th>airline_sentiment_gold</th>\n",
       "      <th>name</th>\n",
       "      <th>negativereason_gold</th>\n",
       "      <th>retweet_count</th>\n",
       "      <th>text</th>\n",
       "      <th>tweet_coord</th>\n",
       "      <th>tweet_created</th>\n",
       "      <th>tweet_location</th>\n",
       "      <th>user_timezone</th>\n",
       "    </tr>\n",
       "  </thead>\n",
       "  <tbody>\n",
       "    <tr>\n",
       "      <th>0</th>\n",
       "      <td>570306133677760513</td>\n",
       "      <td>neutral</td>\n",
       "      <td>1.0000</td>\n",
       "      <td>NaN</td>\n",
       "      <td>NaN</td>\n",
       "      <td>Virgin America</td>\n",
       "      <td>NaN</td>\n",
       "      <td>cairdin</td>\n",
       "      <td>NaN</td>\n",
       "      <td>0</td>\n",
       "      <td>@VirginAmerica What @dhepburn said.</td>\n",
       "      <td>NaN</td>\n",
       "      <td>2015-02-24 11:35:52 -0800</td>\n",
       "      <td>NaN</td>\n",
       "      <td>Eastern Time (US &amp; Canada)</td>\n",
       "    </tr>\n",
       "    <tr>\n",
       "      <th>1</th>\n",
       "      <td>570301130888122368</td>\n",
       "      <td>positive</td>\n",
       "      <td>0.3486</td>\n",
       "      <td>NaN</td>\n",
       "      <td>0.0000</td>\n",
       "      <td>Virgin America</td>\n",
       "      <td>NaN</td>\n",
       "      <td>jnardino</td>\n",
       "      <td>NaN</td>\n",
       "      <td>0</td>\n",
       "      <td>@VirginAmerica plus you've added commercials t...</td>\n",
       "      <td>NaN</td>\n",
       "      <td>2015-02-24 11:15:59 -0800</td>\n",
       "      <td>NaN</td>\n",
       "      <td>Pacific Time (US &amp; Canada)</td>\n",
       "    </tr>\n",
       "    <tr>\n",
       "      <th>2</th>\n",
       "      <td>570301083672813571</td>\n",
       "      <td>neutral</td>\n",
       "      <td>0.6837</td>\n",
       "      <td>NaN</td>\n",
       "      <td>NaN</td>\n",
       "      <td>Virgin America</td>\n",
       "      <td>NaN</td>\n",
       "      <td>yvonnalynn</td>\n",
       "      <td>NaN</td>\n",
       "      <td>0</td>\n",
       "      <td>@VirginAmerica I didn't today... Must mean I n...</td>\n",
       "      <td>NaN</td>\n",
       "      <td>2015-02-24 11:15:48 -0800</td>\n",
       "      <td>Lets Play</td>\n",
       "      <td>Central Time (US &amp; Canada)</td>\n",
       "    </tr>\n",
       "    <tr>\n",
       "      <th>3</th>\n",
       "      <td>570301031407624196</td>\n",
       "      <td>negative</td>\n",
       "      <td>1.0000</td>\n",
       "      <td>Bad Flight</td>\n",
       "      <td>0.7033</td>\n",
       "      <td>Virgin America</td>\n",
       "      <td>NaN</td>\n",
       "      <td>jnardino</td>\n",
       "      <td>NaN</td>\n",
       "      <td>0</td>\n",
       "      <td>@VirginAmerica it's really aggressive to blast...</td>\n",
       "      <td>NaN</td>\n",
       "      <td>2015-02-24 11:15:36 -0800</td>\n",
       "      <td>NaN</td>\n",
       "      <td>Pacific Time (US &amp; Canada)</td>\n",
       "    </tr>\n",
       "    <tr>\n",
       "      <th>4</th>\n",
       "      <td>570300817074462722</td>\n",
       "      <td>negative</td>\n",
       "      <td>1.0000</td>\n",
       "      <td>Can't Tell</td>\n",
       "      <td>1.0000</td>\n",
       "      <td>Virgin America</td>\n",
       "      <td>NaN</td>\n",
       "      <td>jnardino</td>\n",
       "      <td>NaN</td>\n",
       "      <td>0</td>\n",
       "      <td>@VirginAmerica and it's a really big bad thing...</td>\n",
       "      <td>NaN</td>\n",
       "      <td>2015-02-24 11:14:45 -0800</td>\n",
       "      <td>NaN</td>\n",
       "      <td>Pacific Time (US &amp; Canada)</td>\n",
       "    </tr>\n",
       "  </tbody>\n",
       "</table>\n",
       "</div>"
      ],
      "text/plain": [
       "             tweet_id airline_sentiment  airline_sentiment_confidence  \\\n",
       "0  570306133677760513           neutral                        1.0000   \n",
       "1  570301130888122368          positive                        0.3486   \n",
       "2  570301083672813571           neutral                        0.6837   \n",
       "3  570301031407624196          negative                        1.0000   \n",
       "4  570300817074462722          negative                        1.0000   \n",
       "\n",
       "  negativereason  negativereason_confidence         airline  \\\n",
       "0            NaN                        NaN  Virgin America   \n",
       "1            NaN                     0.0000  Virgin America   \n",
       "2            NaN                        NaN  Virgin America   \n",
       "3     Bad Flight                     0.7033  Virgin America   \n",
       "4     Can't Tell                     1.0000  Virgin America   \n",
       "\n",
       "  airline_sentiment_gold        name negativereason_gold  retweet_count  \\\n",
       "0                    NaN     cairdin                 NaN              0   \n",
       "1                    NaN    jnardino                 NaN              0   \n",
       "2                    NaN  yvonnalynn                 NaN              0   \n",
       "3                    NaN    jnardino                 NaN              0   \n",
       "4                    NaN    jnardino                 NaN              0   \n",
       "\n",
       "                                                text tweet_coord  \\\n",
       "0                @VirginAmerica What @dhepburn said.         NaN   \n",
       "1  @VirginAmerica plus you've added commercials t...         NaN   \n",
       "2  @VirginAmerica I didn't today... Must mean I n...         NaN   \n",
       "3  @VirginAmerica it's really aggressive to blast...         NaN   \n",
       "4  @VirginAmerica and it's a really big bad thing...         NaN   \n",
       "\n",
       "               tweet_created tweet_location               user_timezone  \n",
       "0  2015-02-24 11:35:52 -0800            NaN  Eastern Time (US & Canada)  \n",
       "1  2015-02-24 11:15:59 -0800            NaN  Pacific Time (US & Canada)  \n",
       "2  2015-02-24 11:15:48 -0800      Lets Play  Central Time (US & Canada)  \n",
       "3  2015-02-24 11:15:36 -0800            NaN  Pacific Time (US & Canada)  \n",
       "4  2015-02-24 11:14:45 -0800            NaN  Pacific Time (US & Canada)  "
      ]
     },
     "execution_count": 5,
     "metadata": {},
     "output_type": "execute_result"
    }
   ],
   "source": [
    "df = pd.read_csv('../dataset/Tweets.csv')\n",
    "df.head()"
   ]
  },
  {
   "cell_type": "code",
   "execution_count": 6,
   "id": "c70a3e48",
   "metadata": {},
   "outputs": [
    {
     "data": {
      "text/plain": [
       "array(['Virgin America', 'United', 'Southwest', 'Delta', 'US Airways',\n",
       "       'American'], dtype=object)"
      ]
     },
     "execution_count": 6,
     "metadata": {},
     "output_type": "execute_result"
    }
   ],
   "source": [
    "df['airline'].unique()"
   ]
  },
  {
   "cell_type": "code",
   "execution_count": 7,
   "id": "05cebe2c",
   "metadata": {},
   "outputs": [
    {
     "data": {
      "text/plain": [
       "array(['@VirginAmerica', '@virginamerica', 'I', 'Nice', '@VirginAmerica,',\n",
       "       'Always', '.@VirginAmerica', '😎', \"“@VirginAmerica:You've\",\n",
       "       'Awesome!', '👍👍✈️✈️💗', '@virginAmerica', '@virginamerica..',\n",
       "       'Bruh', '“@VirginAmerica:', '@united', '@United', '@united.',\n",
       "       '@United.', '.@united', '.Thnx', '@lindaSWC', '“@united:', 'Hey',\n",
       "       'Decisions', 'Need', '@united:', 'Yes!!', 'Just', '@SouthwestAir',\n",
       "       'Thank', 'Thanks', 'Flight', 'But', '@united,', 'The', 'UA3388',\n",
       "       'BUT', '@united-rebooked', '.', '@United\\u200b',\n",
       "       '@united--excited', '@united...do', \"“@united:That's\", 'Only',\n",
       "       'Very', 'Sorry,', '@united...lies', 'Reply', 'So', 'Meanwhile,',\n",
       "       'fuck', \"@united's\", '@United,', 'Why', 'Can', 'we', 'There',\n",
       "       'Really?', '2/2', '1/2', '.@united:', 'Cc', '@United:',\n",
       "       'Hypocrisy', 'Is', 'Thx!', 'Wanted', '.@SouthwestAir', 'You',\n",
       "       '@SouthwestAir:', '@SouthwestAir-', '^CB', '@southwestair', 'See',\n",
       "       'Never', '“@SouthwestAir:', '@SouthwestAir,', '@southwestair,',\n",
       "       '@SouthwestAir.', '&lt;3', '@southwestAir', 'Includes',\n",
       "       '@SouthwestAir#4569', \"@SouthwestAir's\", '@SouthwestAir...',\n",
       "       '@Southwestair', '@SouthwestAir...give', 'THANKS', 'Looking',\n",
       "       'YO!', 'Bingo!', '@southwestair.', '5',\n",
       "       '@southwestair#SWADiversity', '@HillAConlin', 'Despite',\n",
       "       '“@SouthwestAir:Southwest', '@JetBlue', '@jetblue', 'More',\n",
       "       '@CatfoodBeerGlue', '“@JetBlue:', 'Sigh...', '@eatgregeat',\n",
       "       '@JetBlue,', 'RT', 'At', 'Stop', '.@JetBlue', 'Welp.', 'Oh',\n",
       "       'Listen,', '👉🚪RT', 'how', 'um', 'Alright...', 'Stop.', 'Social',\n",
       "       '@JetBlue?', 'smh', 'STOP', '😳', 'OMGee!!!', \"@JetBlue's\",\n",
       "       '@JetBlue:', 'HA!', 'No', '😂😂😂', 'Lol,', 'Noooo', '.............',\n",
       "       'YASSSSS.', '#Real', 'Sorry', \"Don't\", 'NO“@JetBlue:', '😂😂', 'but',\n",
       "       'STAHHPPP!!!', 'Brands:', 'Too', 'Who', 'This', \"C'mon,\",\n",
       "       'Welllllll....', 'Peak', 'Power', 'Sir.', 'JetBlue', 'Lmfaooo',\n",
       "       '\"LOL', '.....', '😩😩😩', 'No.', 'Really', 'We', 'BLOCK', '😕',\n",
       "       'Please', '😒', '*On', 'X__x', 'Lovely!', 'STAHP!!', 'Jet', '😐',\n",
       "       'X____x', 'Yall', 'can', '❤️❤️❤️“@JetBlue:', 'delete', 'Do', ':(',\n",
       "       'LMAO', 'STOP.', 'Okay.', 'They', 'Why?', 'But,', 'Now',\n",
       "       'Bruh...real', 'nope.', '💯💯💯', '😩😩😩“@JetBlue:', 'Haha!', '😩😂😂😂😂',\n",
       "       'alright', 'Happy', 'Kudos', 'Keep', '@JetBlue.',\n",
       "       '@shannonwoodward', 'FYI,', '@Jetblue', 'As', '@jetblue,', 'His',\n",
       "       'What', 'Cool', 'Made', 'Cool!', 'Well', 'chair', 'That',\n",
       "       'Thanks!', 'Lines', 'Then', '@NinaDavuluri', '😢😢', 'Not', 'talked',\n",
       "       'It', 'Currently', \"It's\", 'seriously,', 'First', 'Aww,',\n",
       "       '@USAirways', '@USAirways:', '@usairways', '.@USAirways',\n",
       "       '@USAirways.', 'BY', 'Great', '@USAirways,', '“@USAirways:',\n",
       "       \"That's\", 'Number', '@USairways', \"I've\", '@Sb5551', '@UsAirways',\n",
       "       '@USAirways-', '@timbennettg3', 'All', '@nrhodes85:',\n",
       "       '@sarahpompei', '@AndrewFallis', '@nrhodes85', '@Usairways',\n",
       "       '@USAIRWAYS', 'THE', '@AlbertBreer', 'i', '@usairways.', 'Yes',\n",
       "       '@scm1133', 'Spend', ',@USAirways', 'Thanks.', 'thanks', 'Yes,',\n",
       "       '@AmericanAir', '@americanair', '.@AmericanAir', '“@AmericanAir:',\n",
       "       '@DeltaAssist', '@ods1819', '@AmericanAir..still', \"I'd\",\n",
       "       '@AmericanAir.', 'Thanks,', 'Lol', '@djevolutionhd', 'Without',\n",
       "       'Still', '@AmericanAir,', 'Yessir', '@AmericanAir:', 'last',\n",
       "       '@malhoit', '@AmericanAir.If', '@AmericanAir-everyone:',\n",
       "       '“@AmericanAir', '@vanessaannz', '#nothelpful', '.@AmericanAir:',\n",
       "       '@AmericanAir...still', 'Eliza', 'http://t.co/EIw2sYb8Fu'],\n",
       "      dtype=object)"
      ]
     },
     "execution_count": 7,
     "metadata": {},
     "output_type": "execute_result"
    }
   ],
   "source": [
    "df['text'].apply(lambda x: x.split()[0]).unique()"
   ]
  },
  {
   "cell_type": "markdown",
   "id": "d778978c",
   "metadata": {},
   "source": [
    "## Text-only classification"
   ]
  },
  {
   "cell_type": "code",
   "execution_count": 8,
   "id": "91ff1dcf",
   "metadata": {},
   "outputs": [
    {
     "data": {
      "text/plain": [
       "1    0.626913\n",
       "0    0.373087\n",
       "Name: airline_sentiment, dtype: float64"
      ]
     },
     "execution_count": 8,
     "metadata": {},
     "output_type": "execute_result"
    }
   ],
   "source": [
    "# Our objective is to identify negative sentiment so I'll map negative with 1, others with 0\n",
    "target = df['airline_sentiment'].map(lambda x: 1 if x == 'negative' else 0)\n",
    "target.value_counts(normalize=True)"
   ]
  },
  {
   "cell_type": "markdown",
   "id": "58fb63a9",
   "metadata": {},
   "source": [
    "Although we have more negative sentiment than positive in our samples, it shouldn't constitute imbalanced class classification problem."
   ]
  },
  {
   "cell_type": "markdown",
   "id": "09fcc2a6",
   "metadata": {},
   "source": [
    "## Pre-cleaning text data"
   ]
  },
  {
   "cell_type": "markdown",
   "id": "e8cfa63e",
   "metadata": {},
   "source": [
    "What are we doing\n",
    "1. \n",
    "1. \n",
    "1. \n"
   ]
  },
  {
   "cell_type": "code",
   "execution_count": 9,
   "id": "f9febd08",
   "metadata": {},
   "outputs": [],
   "source": [
    "def cleaning(text):\n",
    "    # Function to convert a raw review to a string of words\n",
    "    # The input is a single string (a raw movie review), and \n",
    "    # the output is a single string (a preprocessed movie review)\n",
    "    \n",
    "    # 1. Convert all text to lowercase,\n",
    "    lower = text.lower()\n",
    "    \n",
    "    # 2. Remove hyperlink and special characters\n",
    "    no_html = re.sub(r'\\(https?:\\/\\/.*[\\r\\n]*', '', lower)\n",
    "    letters_only = re.sub(\"[^a-zA-Z0-9]\", \" \", no_html).split()\n",
    "    \n",
    "    # 3. Remove mentioning specific airlines\n",
    "    airline = ['virginamerica', 'united', 'unitedairways', 'southwest', 'southwestair' 'delta', 'usairways',\n",
    "       'american','americanair']\n",
    "    useful_words = [word for word in letters_only if word not in airline]\n",
    "    \n",
    "    # 3. remove stopwords\n",
    "    stops = set(stopwords.words('english'))\n",
    "    meaningful_words = [word for word in useful_words if word not in stops]\n",
    "    \n",
    "    return(\" \".join(meaningful_words))"
   ]
  },
  {
   "cell_type": "code",
   "execution_count": 10,
   "id": "0c3bc4f3",
   "metadata": {
    "scrolled": true
   },
   "outputs": [
    {
     "data": {
      "text/plain": [
       "0                                            dhepburn said\n",
       "1                  plus added commercials experience tacky\n",
       "2                   today must mean need take another trip\n",
       "3        really aggressive blast obnoxious entertainmen...\n",
       "4                                     really big bad thing\n",
       "                               ...                        \n",
       "14635                   thank got different flight chicago\n",
       "14636    leaving 20 minutes late flight warnings commun...\n",
       "14637                   please bring airlines blackberry10\n",
       "14638    money change flight answer phones suggestions ...\n",
       "14639    8 ppl need 2 know many seats next flight plz p...\n",
       "Name: text, Length: 14640, dtype: object"
      ]
     },
     "execution_count": 10,
     "metadata": {},
     "output_type": "execute_result"
    }
   ],
   "source": [
    "tweet = df['text'].apply(cleaning)\n",
    "tweet"
   ]
  },
  {
   "cell_type": "code",
   "execution_count": 11,
   "id": "8b6c3efb",
   "metadata": {},
   "outputs": [
    {
     "data": {
      "text/plain": [
       "26"
      ]
     },
     "execution_count": 11,
     "metadata": {},
     "output_type": "execute_result"
    }
   ],
   "source": [
    "max_len = 0\n",
    "for word in tweet:\n",
    "    if len(word.split()) > max_len:\n",
    "        max_len = len(word.split())\n",
    "        \n",
    "max_len"
   ]
  },
  {
   "cell_type": "markdown",
   "id": "ffe9d4b1",
   "metadata": {},
   "source": [
    "In the training corpus, the maximum word in tweet message is \"26\", however I didn't know whether tweets in our deployment will be larger or not. Therefore I decided to set maximum length to pad a tweet = 50"
   ]
  },
  {
   "cell_type": "markdown",
   "id": "07090959",
   "metadata": {},
   "source": [
    "## Train/Test Split"
   ]
  },
  {
   "cell_type": "code",
   "execution_count": 12,
   "id": "1d11aaaf",
   "metadata": {},
   "outputs": [
    {
     "data": {
      "text/plain": [
       "(14640,)"
      ]
     },
     "execution_count": 12,
     "metadata": {},
     "output_type": "execute_result"
    }
   ],
   "source": [
    "target.shape"
   ]
  },
  {
   "cell_type": "code",
   "execution_count": 13,
   "id": "8072c80c",
   "metadata": {},
   "outputs": [
    {
     "data": {
      "text/plain": [
       "(14640,)"
      ]
     },
     "execution_count": 13,
     "metadata": {},
     "output_type": "execute_result"
    }
   ],
   "source": [
    "tweet.shape"
   ]
  },
  {
   "cell_type": "code",
   "execution_count": 14,
   "id": "374c1263",
   "metadata": {},
   "outputs": [],
   "source": [
    "X_train, X_test, y_train, y_test = train_test_split(tweet,\n",
    "                                                   target,\n",
    "                                                   test_size=0.1,\n",
    "                                                   stratify=target,\n",
    "                                                   random_state=42)"
   ]
  },
  {
   "cell_type": "code",
   "execution_count": 15,
   "id": "d6402c58",
   "metadata": {},
   "outputs": [
    {
     "name": "stdout",
     "output_type": "stream",
     "text": [
      "(13176,) (1464,)\n"
     ]
    }
   ],
   "source": [
    "print(X_train.shape,X_test.shape)"
   ]
  },
  {
   "cell_type": "markdown",
   "id": "e3e14ca7",
   "metadata": {},
   "source": [
    "## TF-Tokenizer"
   ]
  },
  {
   "cell_type": "code",
   "execution_count": 16,
   "id": "4480e3d0",
   "metadata": {},
   "outputs": [
    {
     "name": "stdout",
     "output_type": "stream",
     "text": [
      "Found 14057 unique tokens\n"
     ]
    }
   ],
   "source": [
    "tokenizer = Tokenizer(oov_token=\"<OOV>\")\n",
    "tokenizer.fit_on_texts(X_train)\n",
    "word_index = tokenizer.word_index\n",
    "print(f'Found {len(word_index)} unique tokens')"
   ]
  },
  {
   "cell_type": "code",
   "execution_count": 17,
   "id": "f647b536",
   "metadata": {},
   "outputs": [],
   "source": [
    "X_train_padded = pad_sequences(tokenizer.texts_to_sequences(X_train), \n",
    "                               padding = 'post',            #Padding after the context\n",
    "                               truncating = 'post',         #If the context contains more than 50 tokens, truncates 51st token and beyond. \n",
    "                               maxlen = 50)                 #Maximum token the model will be handled\n",
    "\n",
    "X_test_padded = pad_sequences(tokenizer.texts_to_sequences(X_test), \n",
    "                               padding = 'post',            #Padding after the context\n",
    "                               truncating = 'post',         #If the context contains more than 50 tokens, truncates 51st token and beyond. \n",
    "                               maxlen = 50)"
   ]
  },
  {
   "cell_type": "markdown",
   "id": "2e4b1b3f",
   "metadata": {},
   "source": [
    "## The baseline model"
   ]
  },
  {
   "cell_type": "code",
   "execution_count": 18,
   "id": "0dcbd10c",
   "metadata": {},
   "outputs": [
    {
     "name": "stdout",
     "output_type": "stream",
     "text": [
      "Model: \"sequential\"\n",
      "_________________________________________________________________\n",
      "Layer (type)                 Output Shape              Param #   \n",
      "=================================================================\n",
      "dense (Dense)                (None, 64)                3264      \n",
      "_________________________________________________________________\n",
      "dense_1 (Dense)              (None, 64)                4160      \n",
      "_________________________________________________________________\n",
      "dense_2 (Dense)              (None, 1)                 65        \n",
      "=================================================================\n",
      "Total params: 7,489\n",
      "Trainable params: 7,489\n",
      "Non-trainable params: 0\n",
      "_________________________________________________________________\n"
     ]
    }
   ],
   "source": [
    "model = Sequential()\n",
    "\n",
    "model.add(Dense(64, activation = 'relu', input_shape = (50,)))\n",
    "model.add(Dense(64, activation = 'relu'))\n",
    "model.add(Dense(1, activation = 'sigmoid'))\n",
    "\n",
    "model.summary()"
   ]
  },
  {
   "cell_type": "code",
   "execution_count": 19,
   "id": "268adc50",
   "metadata": {},
   "outputs": [],
   "source": [
    "model.compile(optimizer = 'adam', \n",
    "              loss = 'binary_crossentropy', \n",
    "              metrics = ['accuracy'])"
   ]
  },
  {
   "cell_type": "code",
   "execution_count": 20,
   "id": "22467a62",
   "metadata": {},
   "outputs": [
    {
     "name": "stdout",
     "output_type": "stream",
     "text": [
      "Train on 10540 samples, validate on 2636 samples\n",
      "Epoch 1/100\n",
      "10540/10540 [==============================] - 1s 67us/sample - loss: 3.4905 - accuracy: 0.5546 - val_loss: 3.0850 - val_accuracy: 0.5850\n",
      "Epoch 2/100\n",
      " 2080/10540 [====>.........................] - ETA: 0s - loss: 3.1434 - accuracy: 0.5889"
     ]
    },
    {
     "name": "stderr",
     "output_type": "stream",
     "text": [
      "/Users/wirachlee/miniforge3/envs/tfm1/lib/python3.8/site-packages/tensorflow/python/keras/engine/training.py:2325: UserWarning: `Model.state_updates` will be removed in a future version. This property should not be used in TensorFlow 2.0, as `updates` are applied automatically.\n",
      "  warnings.warn('`Model.state_updates` will be removed in a future version. '\n"
     ]
    },
    {
     "name": "stdout",
     "output_type": "stream",
     "text": [
      "10540/10540 [==============================] - 1s 62us/sample - loss: 3.1241 - accuracy: 0.5765 - val_loss: 2.9670 - val_accuracy: 0.5702\n",
      "Epoch 3/100\n",
      "10540/10540 [==============================] - 1s 63us/sample - loss: 2.8856 - accuracy: 0.5791 - val_loss: 3.0434 - val_accuracy: 0.5406\n",
      "Epoch 4/100\n",
      "10540/10540 [==============================] - 1s 59us/sample - loss: 2.7632 - accuracy: 0.5781 - val_loss: 3.1958 - val_accuracy: 0.5163\n",
      "Epoch 5/100\n",
      "10540/10540 [==============================] - 1s 59us/sample - loss: 2.5831 - accuracy: 0.5865 - val_loss: 2.6321 - val_accuracy: 0.5827\n",
      "Epoch 6/100\n",
      "10540/10540 [==============================] - 1s 59us/sample - loss: 2.4202 - accuracy: 0.5950 - val_loss: 2.5452 - val_accuracy: 0.5827\n",
      "Epoch 7/100\n",
      "10540/10540 [==============================] - 1s 59us/sample - loss: 2.3304 - accuracy: 0.5963 - val_loss: 2.5443 - val_accuracy: 0.5596\n",
      "Epoch 8/100\n",
      "10540/10540 [==============================] - 1s 52us/sample - loss: 2.2193 - accuracy: 0.6000 - val_loss: 3.1723 - val_accuracy: 0.4951\n",
      "Epoch 9/100\n",
      "10540/10540 [==============================] - 1s 54us/sample - loss: 2.0991 - accuracy: 0.6023 - val_loss: 2.3835 - val_accuracy: 0.5531\n",
      "Epoch 10/100\n",
      "10540/10540 [==============================] - 1s 51us/sample - loss: 1.8867 - accuracy: 0.6139 - val_loss: 2.6230 - val_accuracy: 0.5216\n",
      "Epoch 11/100\n",
      "10540/10540 [==============================] - 1s 52us/sample - loss: 1.8193 - accuracy: 0.6131 - val_loss: 2.2930 - val_accuracy: 0.5448\n",
      "Epoch 12/100\n",
      "10540/10540 [==============================] - 1s 55us/sample - loss: 1.7696 - accuracy: 0.6141 - val_loss: 2.0760 - val_accuracy: 0.5774\n",
      "Epoch 13/100\n",
      "10540/10540 [==============================] - 1s 57us/sample - loss: 1.6063 - accuracy: 0.6168 - val_loss: 2.3859 - val_accuracy: 0.5030\n",
      "Epoch 14/100\n",
      "10540/10540 [==============================] - 1s 56us/sample - loss: 1.5545 - accuracy: 0.6193 - val_loss: 1.9572 - val_accuracy: 0.6180\n",
      "Epoch 15/100\n",
      "10540/10540 [==============================] - 1s 50us/sample - loss: 1.4276 - accuracy: 0.6232 - val_loss: 1.8924 - val_accuracy: 0.5273\n",
      "Epoch 16/100\n",
      "10540/10540 [==============================] - 1s 50us/sample - loss: 1.2561 - accuracy: 0.6322 - val_loss: 1.7412 - val_accuracy: 0.5505\n",
      "Epoch 17/100\n",
      "10540/10540 [==============================] - 1s 51us/sample - loss: 1.2017 - accuracy: 0.6319 - val_loss: 1.7414 - val_accuracy: 0.5520\n",
      "Epoch 18/100\n",
      "10540/10540 [==============================] - 1s 53us/sample - loss: 1.2079 - accuracy: 0.6265 - val_loss: 1.5618 - val_accuracy: 0.5926\n",
      "Epoch 19/100\n",
      "10540/10540 [==============================] - 1s 57us/sample - loss: 1.0763 - accuracy: 0.6343 - val_loss: 1.4677 - val_accuracy: 0.5899\n",
      "Epoch 20/100\n",
      "10540/10540 [==============================] - 1s 60us/sample - loss: 0.9555 - accuracy: 0.6398 - val_loss: 1.5029 - val_accuracy: 0.5432\n",
      "Epoch 21/100\n",
      "10540/10540 [==============================] - 1s 62us/sample - loss: 0.9555 - accuracy: 0.6406 - val_loss: 1.4760 - val_accuracy: 0.6165\n",
      "Epoch 22/100\n",
      "10540/10540 [==============================] - 1s 63us/sample - loss: 0.8801 - accuracy: 0.6390 - val_loss: 1.2528 - val_accuracy: 0.6218\n",
      "Epoch 23/100\n",
      "10540/10540 [==============================] - 1s 59us/sample - loss: 0.8282 - accuracy: 0.6431 - val_loss: 1.2911 - val_accuracy: 0.5664\n",
      "Epoch 24/100\n",
      "10540/10540 [==============================] - 1s 63us/sample - loss: 0.8142 - accuracy: 0.6422 - val_loss: 1.1960 - val_accuracy: 0.5542\n",
      "Epoch 25/100\n",
      "10540/10540 [==============================] - 1s 60us/sample - loss: 0.7294 - accuracy: 0.6407 - val_loss: 1.0462 - val_accuracy: 0.6165\n",
      "Epoch 26/100\n",
      "10540/10540 [==============================] - 1s 52us/sample - loss: 0.6967 - accuracy: 0.6575 - val_loss: 1.1580 - val_accuracy: 0.6149\n",
      "Epoch 27/100\n",
      "10540/10540 [==============================] - 1s 58us/sample - loss: 0.6951 - accuracy: 0.6501 - val_loss: 0.9768 - val_accuracy: 0.6305\n",
      "Epoch 28/100\n",
      "10540/10540 [==============================] - 1s 60us/sample - loss: 0.6722 - accuracy: 0.6504 - val_loss: 0.9104 - val_accuracy: 0.6058\n",
      "Epoch 29/100\n",
      "10540/10540 [==============================] - 1s 60us/sample - loss: 0.6654 - accuracy: 0.6472 - val_loss: 0.9278 - val_accuracy: 0.6275\n",
      "Epoch 30/100\n",
      "10540/10540 [==============================] - 1s 61us/sample - loss: 0.6541 - accuracy: 0.6533 - val_loss: 0.9400 - val_accuracy: 0.6225\n",
      "Epoch 31/100\n",
      "10540/10540 [==============================] - 1s 56us/sample - loss: 0.6867 - accuracy: 0.6413 - val_loss: 0.8060 - val_accuracy: 0.6149\n",
      "Epoch 32/100\n",
      "10540/10540 [==============================] - 1s 57us/sample - loss: 0.6471 - accuracy: 0.6449 - val_loss: 0.7755 - val_accuracy: 0.6316\n",
      "Epoch 33/100\n",
      "10540/10540 [==============================] - 1s 55us/sample - loss: 0.6278 - accuracy: 0.6543 - val_loss: 0.8949 - val_accuracy: 0.5649\n",
      "Epoch 34/100\n",
      "10540/10540 [==============================] - 1s 57us/sample - loss: 0.6408 - accuracy: 0.6485 - val_loss: 0.8184 - val_accuracy: 0.6108\n",
      "Epoch 35/100\n",
      "10540/10540 [==============================] - 1s 63us/sample - loss: 0.6249 - accuracy: 0.6509 - val_loss: 0.8161 - val_accuracy: 0.6142\n",
      "Epoch 36/100\n",
      "10540/10540 [==============================] - 1s 59us/sample - loss: 0.6255 - accuracy: 0.6514 - val_loss: 0.7738 - val_accuracy: 0.6199\n",
      "Epoch 37/100\n",
      "10540/10540 [==============================] - 1s 60us/sample - loss: 0.6198 - accuracy: 0.6625 - val_loss: 0.8489 - val_accuracy: 0.6457\n",
      "Epoch 38/100\n",
      "10540/10540 [==============================] - 1s 58us/sample - loss: 0.6166 - accuracy: 0.6725 - val_loss: 0.7511 - val_accuracy: 0.6392\n",
      "Epoch 39/100\n",
      "10540/10540 [==============================] - 1s 59us/sample - loss: 0.6250 - accuracy: 0.6630 - val_loss: 0.7535 - val_accuracy: 0.6017\n",
      "Epoch 40/100\n",
      "10540/10540 [==============================] - 1s 60us/sample - loss: 0.6241 - accuracy: 0.6633 - val_loss: 0.7442 - val_accuracy: 0.6301\n",
      "Epoch 41/100\n",
      "10540/10540 [==============================] - 1s 60us/sample - loss: 0.6166 - accuracy: 0.6612 - val_loss: 0.7890 - val_accuracy: 0.5910\n",
      "Epoch 42/100\n",
      "10540/10540 [==============================] - 1s 55us/sample - loss: 0.6152 - accuracy: 0.6709 - val_loss: 0.7550 - val_accuracy: 0.6191\n",
      "Epoch 43/100\n",
      "10540/10540 [==============================] - 1s 55us/sample - loss: 0.6197 - accuracy: 0.6674 - val_loss: 0.7410 - val_accuracy: 0.6267\n",
      "Epoch 44/100\n",
      "10540/10540 [==============================] - 1s 50us/sample - loss: 0.6095 - accuracy: 0.6738 - val_loss: 0.7251 - val_accuracy: 0.6434\n",
      "Epoch 45/100\n",
      "10540/10540 [==============================] - 0s 46us/sample - loss: 0.6110 - accuracy: 0.6722 - val_loss: 0.7256 - val_accuracy: 0.6495\n",
      "Epoch 46/100\n",
      "10540/10540 [==============================] - 0s 47us/sample - loss: 0.6040 - accuracy: 0.6732 - val_loss: 0.7804 - val_accuracy: 0.6472\n",
      "Epoch 47/100\n",
      "10540/10540 [==============================] - 1s 55us/sample - loss: 0.6141 - accuracy: 0.6702 - val_loss: 0.7151 - val_accuracy: 0.6426\n",
      "Epoch 48/100\n",
      "10540/10540 [==============================] - 1s 61us/sample - loss: 0.6086 - accuracy: 0.6707 - val_loss: 0.7447 - val_accuracy: 0.6316\n",
      "Epoch 49/100\n",
      "10540/10540 [==============================] - 1s 57us/sample - loss: 0.6012 - accuracy: 0.6749 - val_loss: 0.7060 - val_accuracy: 0.6533\n",
      "Epoch 50/100\n",
      "10540/10540 [==============================] - 1s 62us/sample - loss: 0.5943 - accuracy: 0.6771 - val_loss: 0.7738 - val_accuracy: 0.6369\n",
      "Epoch 51/100\n",
      "10540/10540 [==============================] - 1s 62us/sample - loss: 0.6036 - accuracy: 0.6738 - val_loss: 0.7383 - val_accuracy: 0.6320\n",
      "Epoch 52/100\n",
      "10540/10540 [==============================] - 0s 47us/sample - loss: 0.5922 - accuracy: 0.6778 - val_loss: 0.7419 - val_accuracy: 0.6419\n",
      "Epoch 53/100\n",
      "10540/10540 [==============================] - 1s 54us/sample - loss: 0.5952 - accuracy: 0.6797 - val_loss: 0.7067 - val_accuracy: 0.6476\n",
      "Epoch 54/100\n",
      "10540/10540 [==============================] - 1s 55us/sample - loss: 0.5957 - accuracy: 0.6737 - val_loss: 0.8120 - val_accuracy: 0.6313\n",
      "Epoch 55/100\n",
      "10540/10540 [==============================] - 1s 59us/sample - loss: 0.5980 - accuracy: 0.6750 - val_loss: 0.7293 - val_accuracy: 0.6419\n",
      "Epoch 56/100\n",
      "10540/10540 [==============================] - 1s 59us/sample - loss: 0.5918 - accuracy: 0.6791 - val_loss: 0.7635 - val_accuracy: 0.6438\n",
      "Epoch 57/100\n",
      "10540/10540 [==============================] - 1s 60us/sample - loss: 0.5888 - accuracy: 0.6784 - val_loss: 0.7683 - val_accuracy: 0.6453\n",
      "Epoch 58/100\n",
      "10540/10540 [==============================] - 1s 62us/sample - loss: 0.5894 - accuracy: 0.6804 - val_loss: 0.7700 - val_accuracy: 0.6552\n",
      "Epoch 59/100\n",
      "10540/10540 [==============================] - 1s 54us/sample - loss: 0.5871 - accuracy: 0.6853 - val_loss: 0.7775 - val_accuracy: 0.6464\n",
      "Epoch 60/100\n",
      "10540/10540 [==============================] - 1s 57us/sample - loss: 0.5810 - accuracy: 0.6863 - val_loss: 0.7726 - val_accuracy: 0.6381\n",
      "Epoch 61/100\n",
      "10540/10540 [==============================] - 1s 56us/sample - loss: 0.5860 - accuracy: 0.6856 - val_loss: 0.7545 - val_accuracy: 0.6506\n",
      "Epoch 62/100\n",
      "10540/10540 [==============================] - 1s 63us/sample - loss: 0.5819 - accuracy: 0.6840 - val_loss: 0.7550 - val_accuracy: 0.6464\n",
      "Epoch 63/100\n",
      "10540/10540 [==============================] - 1s 62us/sample - loss: 0.5723 - accuracy: 0.6934 - val_loss: 0.7888 - val_accuracy: 0.6491\n",
      "Epoch 64/100\n",
      "10540/10540 [==============================] - 1s 56us/sample - loss: 0.5717 - accuracy: 0.6912 - val_loss: 0.8471 - val_accuracy: 0.6510\n",
      "Epoch 65/100\n",
      "10540/10540 [==============================] - 1s 63us/sample - loss: 0.5676 - accuracy: 0.6909 - val_loss: 0.7718 - val_accuracy: 0.6468\n",
      "Epoch 66/100\n",
      "10540/10540 [==============================] - 1s 62us/sample - loss: 0.5741 - accuracy: 0.6939 - val_loss: 0.7599 - val_accuracy: 0.6487\n",
      "Epoch 67/100\n",
      "10540/10540 [==============================] - 1s 54us/sample - loss: 0.5751 - accuracy: 0.6922 - val_loss: 0.7687 - val_accuracy: 0.6525\n",
      "Epoch 68/100\n",
      "10540/10540 [==============================] - 1s 53us/sample - loss: 0.5651 - accuracy: 0.6971 - val_loss: 0.7783 - val_accuracy: 0.6502\n",
      "Epoch 69/100\n",
      "10540/10540 [==============================] - 1s 49us/sample - loss: 0.5581 - accuracy: 0.7007 - val_loss: 0.7534 - val_accuracy: 0.6563\n",
      "Epoch 70/100\n",
      "10540/10540 [==============================] - 1s 56us/sample - loss: 0.5665 - accuracy: 0.7000 - val_loss: 0.8069 - val_accuracy: 0.6480\n",
      "Epoch 71/100\n",
      "10540/10540 [==============================] - 1s 59us/sample - loss: 0.5655 - accuracy: 0.6959 - val_loss: 0.7972 - val_accuracy: 0.6498\n",
      "Epoch 72/100\n",
      "10540/10540 [==============================] - 1s 54us/sample - loss: 0.5612 - accuracy: 0.7028 - val_loss: 0.8411 - val_accuracy: 0.6445\n",
      "Epoch 73/100\n",
      "10540/10540 [==============================] - 1s 56us/sample - loss: 0.5611 - accuracy: 0.7049 - val_loss: 0.8015 - val_accuracy: 0.6510\n",
      "Epoch 74/100\n",
      "10540/10540 [==============================] - 1s 56us/sample - loss: 0.5633 - accuracy: 0.7040 - val_loss: 0.7772 - val_accuracy: 0.6563\n",
      "Epoch 75/100\n",
      "10540/10540 [==============================] - 1s 60us/sample - loss: 0.5613 - accuracy: 0.6994 - val_loss: 0.7994 - val_accuracy: 0.6529\n",
      "Epoch 76/100\n",
      "10540/10540 [==============================] - 1s 64us/sample - loss: 0.5558 - accuracy: 0.7006 - val_loss: 0.8014 - val_accuracy: 0.6529\n",
      "Epoch 77/100\n",
      "10540/10540 [==============================] - 1s 64us/sample - loss: 0.5480 - accuracy: 0.7079 - val_loss: 0.8143 - val_accuracy: 0.6593\n",
      "Epoch 78/100\n",
      "10540/10540 [==============================] - 1s 61us/sample - loss: 0.5518 - accuracy: 0.7058 - val_loss: 0.8054 - val_accuracy: 0.6552\n",
      "Epoch 79/100\n",
      "10540/10540 [==============================] - 1s 61us/sample - loss: 0.5543 - accuracy: 0.7036 - val_loss: 0.7852 - val_accuracy: 0.6559\n",
      "Epoch 80/100\n",
      "10540/10540 [==============================] - 1s 60us/sample - loss: 0.5480 - accuracy: 0.7082 - val_loss: 0.8251 - val_accuracy: 0.6639\n",
      "Epoch 81/100\n",
      "10540/10540 [==============================] - 1s 60us/sample - loss: 0.5429 - accuracy: 0.7083 - val_loss: 0.8476 - val_accuracy: 0.6582\n",
      "Epoch 82/100\n",
      "10540/10540 [==============================] - 1s 60us/sample - loss: 0.5377 - accuracy: 0.7163 - val_loss: 0.8325 - val_accuracy: 0.6381\n",
      "Epoch 83/100\n",
      "10540/10540 [==============================] - 1s 59us/sample - loss: 0.5424 - accuracy: 0.7044 - val_loss: 0.8342 - val_accuracy: 0.6533\n",
      "Epoch 84/100\n",
      "10540/10540 [==============================] - 1s 60us/sample - loss: 0.5401 - accuracy: 0.7139 - val_loss: 0.8456 - val_accuracy: 0.6643\n",
      "Epoch 85/100\n",
      "10540/10540 [==============================] - 1s 59us/sample - loss: 0.5438 - accuracy: 0.7117 - val_loss: 0.8385 - val_accuracy: 0.6461\n",
      "Epoch 86/100\n",
      "10540/10540 [==============================] - 1s 60us/sample - loss: 0.5352 - accuracy: 0.7130 - val_loss: 0.8371 - val_accuracy: 0.6506\n",
      "Epoch 87/100\n",
      "10540/10540 [==============================] - 1s 60us/sample - loss: 0.5404 - accuracy: 0.7133 - val_loss: 0.8208 - val_accuracy: 0.6578\n",
      "Epoch 88/100\n",
      "10540/10540 [==============================] - 1s 62us/sample - loss: 0.5388 - accuracy: 0.7145 - val_loss: 0.7772 - val_accuracy: 0.6510\n",
      "Epoch 89/100\n",
      "10540/10540 [==============================] - 1s 62us/sample - loss: 0.5342 - accuracy: 0.7169 - val_loss: 0.8388 - val_accuracy: 0.6578\n",
      "Epoch 90/100\n",
      "10540/10540 [==============================] - 1s 48us/sample - loss: 0.5467 - accuracy: 0.7158 - val_loss: 0.8223 - val_accuracy: 0.6491\n",
      "Epoch 91/100\n",
      "10540/10540 [==============================] - 1s 54us/sample - loss: 0.5392 - accuracy: 0.7137 - val_loss: 0.8524 - val_accuracy: 0.6430\n",
      "Epoch 92/100\n",
      "10540/10540 [==============================] - 1s 61us/sample - loss: 0.5430 - accuracy: 0.7156 - val_loss: 0.8447 - val_accuracy: 0.6578\n",
      "Epoch 93/100\n",
      "10540/10540 [==============================] - 1s 61us/sample - loss: 0.5370 - accuracy: 0.7191 - val_loss: 0.8739 - val_accuracy: 0.6510\n",
      "Epoch 94/100\n",
      "10540/10540 [==============================] - 1s 64us/sample - loss: 0.5321 - accuracy: 0.7169 - val_loss: 0.8950 - val_accuracy: 0.6514\n",
      "Epoch 95/100\n",
      "10540/10540 [==============================] - 1s 61us/sample - loss: 0.5217 - accuracy: 0.7208 - val_loss: 0.8312 - val_accuracy: 0.6548\n",
      "Epoch 96/100\n",
      "10540/10540 [==============================] - 1s 61us/sample - loss: 0.5238 - accuracy: 0.7277 - val_loss: 0.8697 - val_accuracy: 0.6487\n",
      "Epoch 97/100\n",
      "10540/10540 [==============================] - 1s 61us/sample - loss: 0.5297 - accuracy: 0.7200 - val_loss: 0.8511 - val_accuracy: 0.6555\n",
      "Epoch 98/100\n",
      "10540/10540 [==============================] - 1s 60us/sample - loss: 0.5297 - accuracy: 0.7164 - val_loss: 0.8851 - val_accuracy: 0.6517\n",
      "Epoch 99/100\n",
      "10540/10540 [==============================] - 1s 59us/sample - loss: 0.5277 - accuracy: 0.7202 - val_loss: 0.8443 - val_accuracy: 0.6521\n",
      "Epoch 100/100\n",
      "10540/10540 [==============================] - 1s 57us/sample - loss: 0.5220 - accuracy: 0.7223 - val_loss: 0.8458 - val_accuracy: 0.6540\n"
     ]
    }
   ],
   "source": [
    "history = model.fit(X_train_padded,\n",
    "                   y_train,\n",
    "                   epochs = 100,\n",
    "                   batch_size = 32,\n",
    "                   validation_split = 0.2,\n",
    "                   verbose = 1\n",
    "                   )"
   ]
  },
  {
   "cell_type": "code",
   "execution_count": 21,
   "id": "5a98975a",
   "metadata": {
    "code_folding": []
   },
   "outputs": [
    {
     "data": {
      "image/png": "[encoded data removed]",
      "text/plain": [
       "<Figure size 864x576 with 1 Axes>"
      ]
     },
     "metadata": {
      "needs_background": "light"
     },
     "output_type": "display_data"
    }
   ],
   "source": [
    "# Check out our train loss and test loss over epochs.\n",
    "train_loss = history.history['loss']\n",
    "test_loss = history.history['val_loss']\n",
    "\n",
    "# Set figure size.\n",
    "plt.figure(figsize=(12, 8))\n",
    "\n",
    "# Generate line plot of training, testing loss over epochs.\n",
    "plt.plot(train_loss, label='Training Loss', color='#185fad')\n",
    "plt.plot(test_loss, label='Validation Loss', color='orange')\n",
    "\n",
    "# Set title\n",
    "plt.title('Training and Validation Loss by Epoch', fontsize = 25)\n",
    "plt.xlabel('Epoch', fontsize = 18)\n",
    "plt.ylabel('Binary Crossentropy', fontsize = 18)\n",
    "\n",
    "\n",
    "plt.legend(fontsize = 18);"
   ]
  },
  {
   "cell_type": "code",
   "execution_count": 22,
   "id": "2ca6c502",
   "metadata": {},
   "outputs": [
    {
     "data": {
      "image/png": "[encoded data removed]",
      "text/plain": [
       "<Figure size 864x576 with 1 Axes>"
      ]
     },
     "metadata": {
      "needs_background": "light"
     },
     "output_type": "display_data"
    }
   ],
   "source": [
    "# Check out our train loss and test loss over epochs.\n",
    "train_acc = history.history['accuracy']\n",
    "test_acc = history.history['val_accuracy']\n",
    "\n",
    "# Set figure size.\n",
    "plt.figure(figsize=(12, 8))\n",
    "\n",
    "# Generate line plot of training, testing loss over epochs.\n",
    "plt.plot(train_acc, label='Training Accuracy', color='#185fad')\n",
    "plt.plot(test_acc, label='Validation Accuracy', color='orange')\n",
    "\n",
    "# Set title\n",
    "plt.title('Training and Validation Accuracy by Epoch', fontsize = 25)\n",
    "plt.xlabel('Epoch', fontsize = 18)\n",
    "plt.ylabel('Accuracy', fontsize = 18)\n",
    "# plt.xticks([0, 1, 2, 3, 4], [1, 2, 3, 4, 5])\n",
    "\n",
    "plt.legend(fontsize = 18);"
   ]
  },
  {
   "cell_type": "markdown",
   "id": "44b4abac",
   "metadata": {},
   "source": [
    "The baseline model is too simple to capture pattern in the data. Although being trained for 100 epochs 76% training accuracy and approximately 60% validation accuracy. \n",
    "\n",
    "Note that our the majority class (negative sentiment) is 62% which mean that our model perform slightly worse than simply guessing that the sentiment was negative!"
   ]
  },
  {
   "cell_type": "markdown",
   "id": "796698d6",
   "metadata": {},
   "source": [
    "## Improvement"
   ]
  },
  {
   "cell_type": "markdown",
   "id": "09464d83",
   "metadata": {},
   "source": [
    "### Employ WordEmbedding"
   ]
  },
  {
   "cell_type": "markdown",
   "id": "1f3a9533",
   "metadata": {},
   "source": [
    "Preparing the Embedding layer\n",
    "\n",
    "Next, we compute an index mapping words to known embeddings, by parsing the data dump of pre-trained embeddings:\n",
    "\n"
   ]
  },
  {
   "cell_type": "code",
   "execution_count": 23,
   "id": "4d903047",
   "metadata": {},
   "outputs": [
    {
     "name": "stdout",
     "output_type": "stream",
     "text": [
      "Found 1193514 word vectors.\n"
     ]
    }
   ],
   "source": [
    "embeddings_index = {}\n",
    "GLOVE_PATH = '../glove/'\n",
    "f = open(os.path.join(GLOVE_PATH, 'glove.twitter.27B.100d.txt'))\n",
    "for line in f:\n",
    "    values = line.split()\n",
    "    word = values[0]\n",
    "    coefs = np.asarray(values[1:], dtype='float32')\n",
    "    embeddings_index[word] = coefs\n",
    "f.close()\n",
    "\n",
    "print('Found %s word vectors.' % len(embeddings_index))"
   ]
  },
  {
   "cell_type": "code",
   "execution_count": 24,
   "id": "ec3b25d6",
   "metadata": {},
   "outputs": [],
   "source": [
    "embedding_matrix = np.zeros((len(word_index) + 1, 100))\n",
    "for word, i in word_index.items():\n",
    "    embedding_vector = embeddings_index.get(word)\n",
    "    if embedding_vector is not None:\n",
    "        # words not found in embedding index will be all-zeros.\n",
    "        embedding_matrix[i] = embedding_vector"
   ]
  },
  {
   "cell_type": "code",
   "execution_count": 25,
   "id": "b69b3874",
   "metadata": {},
   "outputs": [
    {
     "data": {
      "text/plain": [
       "array([[ 0.        ,  0.        ,  0.        , ...,  0.        ,\n",
       "         0.        ,  0.        ],\n",
       "       [ 0.        ,  0.        ,  0.        , ...,  0.        ,\n",
       "         0.        ,  0.        ],\n",
       "       [ 0.24154   ,  0.52802002,  0.2104    , ...,  0.53678   ,\n",
       "        -0.64955997, -0.25494   ],\n",
       "       ...,\n",
       "       [-0.051148  , -0.039904  ,  0.39074001, ...,  0.49825001,\n",
       "        -0.66702998,  0.092326  ],\n",
       "       [ 0.        ,  0.        ,  0.        , ...,  0.        ,\n",
       "         0.        ,  0.        ],\n",
       "       [ 0.21323   ,  0.69871998,  0.57646   , ...,  0.80664003,\n",
       "         0.094567  , -1.11240005]])"
      ]
     },
     "execution_count": 25,
     "metadata": {},
     "output_type": "execute_result"
    }
   ],
   "source": [
    "embedding_matrix"
   ]
  },
  {
   "cell_type": "markdown",
   "id": "2ef18f7a",
   "metadata": {},
   "source": [
    "### Modify model architecture"
   ]
  },
  {
   "cell_type": "markdown",
   "id": "bf6f7cc4",
   "metadata": {},
   "source": [
    "Using \n",
    "1. Conv1D\n",
    "1. LSTM layer"
   ]
  },
  {
   "cell_type": "code",
   "execution_count": 26,
   "id": "1f784b1c",
   "metadata": {},
   "outputs": [
    {
     "name": "stdout",
     "output_type": "stream",
     "text": [
      "Model: \"sequential_1\"\n",
      "_________________________________________________________________\n",
      "Layer (type)                 Output Shape              Param #   \n",
      "=================================================================\n",
      "embedding (Embedding)        (None, 50, 100)           1405800   \n",
      "_________________________________________________________________\n",
      "conv1d (Conv1D)              (None, 46, 32)            16032     \n",
      "_________________________________________________________________\n",
      "batch_normalization (BatchNo (None, 46, 32)            128       \n",
      "_________________________________________________________________\n",
      "max_pooling1d (MaxPooling1D) (None, 11, 32)            0         \n",
      "_________________________________________________________________\n",
      "lstm (LSTM)                  (None, 32)                8320      \n",
      "_________________________________________________________________\n",
      "dense_3 (Dense)              (None, 64)                2112      \n",
      "_________________________________________________________________\n",
      "dropout (Dropout)            (None, 64)                0         \n",
      "_________________________________________________________________\n",
      "dense_4 (Dense)              (None, 1)                 65        \n",
      "=================================================================\n",
      "Total params: 1,432,457\n",
      "Trainable params: 26,593\n",
      "Non-trainable params: 1,405,864\n",
      "_________________________________________________________________\n"
     ]
    }
   ],
   "source": [
    "LSTM_model = Sequential([\n",
    "    Embedding(len(word_index)+1, 100, input_length = 50, weights = [embedding_matrix], trainable = False),\n",
    "#     #ConvBlock1\n",
    "#     Conv1D(32, 5, activation = 'relu'),\n",
    "#     BatchNormalization(),\n",
    "    #ConvBlock2\n",
    "    Conv1D(32, 5, activation = 'relu'),\n",
    "    BatchNormalization(),\n",
    "    MaxPooling1D(pool_size=4),\n",
    "    LSTM(32),\n",
    "    Dense(64, activation = 'relu'),\n",
    "    Dropout(0.25),\n",
    "    Dense(1, activation = 'sigmoid')\n",
    "])\n",
    "LSTM_model.summary()"
   ]
  },
  {
   "cell_type": "code",
   "execution_count": 27,
   "id": "ddc6cc0b",
   "metadata": {},
   "outputs": [],
   "source": [
    "LSTM_model.compile(optimizer = 'adam', \n",
    "              loss = 'binary_crossentropy', \n",
    "              metrics = ['accuracy'])"
   ]
  },
  {
   "cell_type": "code",
   "execution_count": 28,
   "id": "15068195",
   "metadata": {
    "scrolled": false
   },
   "outputs": [
    {
     "name": "stdout",
     "output_type": "stream",
     "text": [
      "Train on 10540 samples, validate on 2636 samples\n",
      "Epoch 1/50\n",
      "10540/10540 [==============================] - 3s 272us/sample - loss: 0.6424 - accuracy: 0.6260 - val_loss: 0.6682 - val_accuracy: 0.6366\n",
      "Epoch 2/50\n",
      "10540/10540 [==============================] - 2s 233us/sample - loss: 0.5250 - accuracy: 0.7600 - val_loss: 0.6491 - val_accuracy: 0.6388\n",
      "Epoch 3/50\n",
      "10540/10540 [==============================] - 3s 245us/sample - loss: 0.4883 - accuracy: 0.7774 - val_loss: 0.6414 - val_accuracy: 0.6669\n",
      "Epoch 4/50\n",
      "10540/10540 [==============================] - 3s 247us/sample - loss: 0.4770 - accuracy: 0.7798 - val_loss: 0.6342 - val_accuracy: 0.7227\n",
      "Epoch 5/50\n",
      "10540/10540 [==============================] - 2s 236us/sample - loss: 0.4696 - accuracy: 0.7835 - val_loss: 0.6333 - val_accuracy: 0.7382\n",
      "Epoch 6/50\n",
      "10540/10540 [==============================] - 3s 240us/sample - loss: 0.4645 - accuracy: 0.7832 - val_loss: 0.6383 - val_accuracy: 0.7382\n",
      "Epoch 7/50\n",
      "10540/10540 [==============================] - 3s 238us/sample - loss: 0.4528 - accuracy: 0.7917 - val_loss: 0.6480 - val_accuracy: 0.6965\n",
      "Epoch 8/50\n",
      "10540/10540 [==============================] - 3s 237us/sample - loss: 0.4460 - accuracy: 0.7959 - val_loss: 0.6591 - val_accuracy: 0.6468\n",
      "Epoch 9/50\n",
      "10540/10540 [==============================] - 3s 241us/sample - loss: 0.4388 - accuracy: 0.7989 - val_loss: 0.6767 - val_accuracy: 0.5383\n",
      "Epoch 10/50\n",
      "10540/10540 [==============================] - 2s 222us/sample - loss: 0.4298 - accuracy: 0.8023 - val_loss: 0.6953 - val_accuracy: 0.4579\n",
      "Epoch 11/50\n",
      "10540/10540 [==============================] - 2s 225us/sample - loss: 0.4219 - accuracy: 0.8056 - val_loss: 0.7094 - val_accuracy: 0.4154\n",
      "Epoch 12/50\n",
      "10540/10540 [==============================] - 2s 228us/sample - loss: 0.4134 - accuracy: 0.8107 - val_loss: 0.7261 - val_accuracy: 0.3888\n",
      "Epoch 13/50\n",
      "10540/10540 [==============================] - 2s 231us/sample - loss: 0.4109 - accuracy: 0.8117 - val_loss: 0.7445 - val_accuracy: 0.3759\n",
      "Epoch 14/50\n",
      "10540/10540 [==============================] - 2s 223us/sample - loss: 0.4134 - accuracy: 0.8127 - val_loss: 0.7546 - val_accuracy: 0.3695\n",
      "Epoch 15/50\n",
      "10540/10540 [==============================] - 2s 220us/sample - loss: 0.4040 - accuracy: 0.8161 - val_loss: 0.7617 - val_accuracy: 0.3661\n",
      "Epoch 16/50\n",
      "10540/10540 [==============================] - 3s 243us/sample - loss: 0.3978 - accuracy: 0.8198 - val_loss: 0.7712 - val_accuracy: 0.3649\n",
      "Epoch 17/50\n",
      "10540/10540 [==============================] - 2s 220us/sample - loss: 0.3926 - accuracy: 0.8218 - val_loss: 0.7752 - val_accuracy: 0.3642\n",
      "Epoch 18/50\n",
      "10540/10540 [==============================] - 2s 223us/sample - loss: 0.3872 - accuracy: 0.8248 - val_loss: 0.7818 - val_accuracy: 0.3642\n",
      "Epoch 19/50\n",
      "10540/10540 [==============================] - 2s 222us/sample - loss: 0.3839 - accuracy: 0.8236 - val_loss: 0.7774 - val_accuracy: 0.3642\n",
      "Epoch 20/50\n",
      "10540/10540 [==============================] - 2s 232us/sample - loss: 0.3834 - accuracy: 0.8242 - val_loss: 0.7808 - val_accuracy: 0.3638\n",
      "Epoch 21/50\n",
      "10540/10540 [==============================] - 2s 234us/sample - loss: 0.3740 - accuracy: 0.8296 - val_loss: 0.7823 - val_accuracy: 0.3638\n",
      "Epoch 22/50\n",
      "10540/10540 [==============================] - 2s 231us/sample - loss: 0.3742 - accuracy: 0.8278 - val_loss: 0.7787 - val_accuracy: 0.3638\n",
      "Epoch 23/50\n",
      "10540/10540 [==============================] - 2s 229us/sample - loss: 0.3743 - accuracy: 0.8287 - val_loss: 0.7827 - val_accuracy: 0.3642\n",
      "Epoch 24/50\n",
      "10540/10540 [==============================] - 2s 225us/sample - loss: 0.3670 - accuracy: 0.8325 - val_loss: 0.7832 - val_accuracy: 0.3642\n",
      "Epoch 25/50\n",
      "10540/10540 [==============================] - 2s 236us/sample - loss: 0.3649 - accuracy: 0.8365 - val_loss: 0.7879 - val_accuracy: 0.3638\n",
      "Epoch 26/50\n",
      "10540/10540 [==============================] - 2s 231us/sample - loss: 0.3638 - accuracy: 0.8318 - val_loss: 0.7816 - val_accuracy: 0.3638\n",
      "Epoch 27/50\n",
      "10540/10540 [==============================] - 2s 230us/sample - loss: 0.3583 - accuracy: 0.8371 - val_loss: 0.7878 - val_accuracy: 0.3634\n",
      "Epoch 28/50\n",
      "10540/10540 [==============================] - 2s 230us/sample - loss: 0.3569 - accuracy: 0.8373 - val_loss: 0.7908 - val_accuracy: 0.3634\n",
      "Epoch 29/50\n",
      "10540/10540 [==============================] - 2s 227us/sample - loss: 0.3513 - accuracy: 0.8403 - val_loss: 0.7932 - val_accuracy: 0.3634\n",
      "Epoch 30/50\n",
      "10540/10540 [==============================] - 2s 229us/sample - loss: 0.3447 - accuracy: 0.8433 - val_loss: 0.7962 - val_accuracy: 0.3634\n",
      "Epoch 31/50\n",
      "10540/10540 [==============================] - 2s 231us/sample - loss: 0.3402 - accuracy: 0.8443 - val_loss: 0.7949 - val_accuracy: 0.3634\n",
      "Epoch 32/50\n",
      "10540/10540 [==============================] - 2s 225us/sample - loss: 0.3364 - accuracy: 0.8457 - val_loss: 0.7983 - val_accuracy: 0.3634\n",
      "Epoch 33/50\n",
      "10540/10540 [==============================] - 2s 221us/sample - loss: 0.3308 - accuracy: 0.8507 - val_loss: 0.7931 - val_accuracy: 0.3634\n",
      "Epoch 34/50\n",
      "10540/10540 [==============================] - 3s 238us/sample - loss: 0.3253 - accuracy: 0.8544 - val_loss: 0.7959 - val_accuracy: 0.3634\n",
      "Epoch 35/50\n",
      "10540/10540 [==============================] - 2s 226us/sample - loss: 0.3275 - accuracy: 0.8518 - val_loss: 0.7920 - val_accuracy: 0.3634\n",
      "Epoch 36/50\n",
      "10540/10540 [==============================] - 2s 205us/sample - loss: 0.3233 - accuracy: 0.8539 - val_loss: 0.7985 - val_accuracy: 0.3634\n",
      "Epoch 37/50\n",
      "10540/10540 [==============================] - 2s 218us/sample - loss: 0.3141 - accuracy: 0.8567 - val_loss: 0.8005 - val_accuracy: 0.3634\n",
      "Epoch 38/50\n",
      "10540/10540 [==============================] - 2s 218us/sample - loss: 0.3082 - accuracy: 0.8609 - val_loss: 0.8057 - val_accuracy: 0.3634\n",
      "Epoch 39/50\n",
      "10540/10540 [==============================] - 2s 220us/sample - loss: 0.3102 - accuracy: 0.8571 - val_loss: 0.8028 - val_accuracy: 0.3634\n",
      "Epoch 40/50\n",
      "10540/10540 [==============================] - 2s 220us/sample - loss: 0.3084 - accuracy: 0.8603 - val_loss: 0.8026 - val_accuracy: 0.3634\n",
      "Epoch 41/50\n",
      "10540/10540 [==============================] - 2s 232us/sample - loss: 0.2967 - accuracy: 0.8676 - val_loss: 0.8063 - val_accuracy: 0.3634\n",
      "Epoch 42/50\n",
      "10540/10540 [==============================] - 2s 234us/sample - loss: 0.2946 - accuracy: 0.8639 - val_loss: 0.8079 - val_accuracy: 0.3634\n",
      "Epoch 43/50\n",
      "10540/10540 [==============================] - 3s 239us/sample - loss: 0.2983 - accuracy: 0.8636 - val_loss: 0.8117 - val_accuracy: 0.3634\n",
      "Epoch 44/50\n",
      "10540/10540 [==============================] - 2s 230us/sample - loss: 0.2967 - accuracy: 0.8619 - val_loss: 0.8129 - val_accuracy: 0.3634\n",
      "Epoch 45/50\n",
      "10540/10540 [==============================] - 2s 224us/sample - loss: 0.2854 - accuracy: 0.8727 - val_loss: 0.8151 - val_accuracy: 0.3634\n",
      "Epoch 46/50\n",
      "10540/10540 [==============================] - 2s 235us/sample - loss: 0.2766 - accuracy: 0.8745 - val_loss: 0.8164 - val_accuracy: 0.3634\n",
      "Epoch 47/50\n",
      "10540/10540 [==============================] - 2s 228us/sample - loss: 0.2680 - accuracy: 0.8787 - val_loss: 0.8250 - val_accuracy: 0.3634\n",
      "Epoch 48/50\n",
      "10540/10540 [==============================] - 2s 230us/sample - loss: 0.2600 - accuracy: 0.8822 - val_loss: 0.8274 - val_accuracy: 0.3634\n",
      "Epoch 49/50\n",
      "10540/10540 [==============================] - 3s 239us/sample - loss: 0.2694 - accuracy: 0.8769 - val_loss: 0.8268 - val_accuracy: 0.3634\n",
      "Epoch 50/50\n",
      "10540/10540 [==============================] - 2s 231us/sample - loss: 0.2543 - accuracy: 0.8824 - val_loss: 0.8273 - val_accuracy: 0.3634\n"
     ]
    }
   ],
   "source": [
    "LSTM_history = LSTM_model.fit(X_train_padded,\n",
    "                   y_train,\n",
    "                   epochs = 50,\n",
    "                   batch_size = 512,\n",
    "                   validation_split = 0.2,\n",
    "                   verbose = 1\n",
    "                   )"
   ]
  },
  {
   "cell_type": "code",
   "execution_count": 29,
   "id": "dfb3ba2f",
   "metadata": {
    "code_folding": []
   },
   "outputs": [
    {
     "data": {
      "image/png": "[encoded data removed]",
      "text/plain": [
       "<Figure size 864x576 with 1 Axes>"
      ]
     },
     "metadata": {
      "needs_background": "light"
     },
     "output_type": "display_data"
    }
   ],
   "source": [
    "# Check out our train loss and test loss over epochs.\n",
    "train_loss = LSTM_history.history['loss']\n",
    "test_loss = LSTM_history.history['val_loss']\n",
    "\n",
    "# Set figure size.\n",
    "plt.figure(figsize=(12, 8))\n",
    "\n",
    "# Generate line plot of training, testing loss over epochs.\n",
    "plt.plot(train_loss, label='Training Loss', color='#185fad')\n",
    "plt.plot(test_loss, label='Validation Loss', color='orange')\n",
    "\n",
    "# Set title\n",
    "plt.title('Training and Validation Loss by Epoch', fontsize = 25)\n",
    "plt.xlabel('Epoch', fontsize = 18)\n",
    "plt.ylabel('Binary Crossentropy', fontsize = 18)\n",
    "\n",
    "\n",
    "plt.legend(fontsize = 18);"
   ]
  },
  {
   "cell_type": "code",
   "execution_count": 30,
   "id": "9326b823",
   "metadata": {
    "scrolled": false
   },
   "outputs": [
    {
     "data": {
      "image/png": "[encoded data removed]",
      "text/plain": [
       "<Figure size 864x576 with 1 Axes>"
      ]
     },
     "metadata": {
      "needs_background": "light"
     },
     "output_type": "display_data"
    }
   ],
   "source": [
    "# Check out our train loss and test loss over epochs.\n",
    "train_acc = LSTM_history.history['accuracy']\n",
    "test_acc = LSTM_history.history['val_accuracy']\n",
    "\n",
    "# Set figure size.\n",
    "plt.figure(figsize=(12, 8))\n",
    "\n",
    "# Generate line plot of training, testing loss over epochs.\n",
    "plt.plot(train_acc, label='Training Accuracy', color='#185fad')\n",
    "plt.plot(test_acc, label='Validation Accuracy', color='orange')\n",
    "\n",
    "# Set title\n",
    "plt.title('Training and Validation Accuracy by Epoch', fontsize = 25)\n",
    "plt.xlabel('Epoch', fontsize = 18)\n",
    "plt.ylabel('Accuracy', fontsize = 18)\n",
    "# plt.xticks([0, 1, 2, 3, 4], [1, 2, 3, 4, 5])\n",
    "\n",
    "plt.legend(fontsize = 18);"
   ]
  },
  {
   "cell_type": "markdown",
   "id": "bc608cb6",
   "metadata": {},
   "source": [
    "Overmodel heavily overfitted on the training data. Let's introduce some regularization techniques!"
   ]
  },
  {
   "cell_type": "markdown",
   "id": "fd2d3055",
   "metadata": {},
   "source": [
    "### Introduce regularization parameters"
   ]
  },
  {
   "cell_type": "code",
   "execution_count": 31,
   "id": "aba53b91",
   "metadata": {},
   "outputs": [],
   "source": [
    "#Early stopping callback\n",
    "early_stop = EarlyStopping(monitor = 'val_loss', \n",
    "                           min_delta = 0, \n",
    "                           patience = 10,          #number of epochs to wait (if val_loss go up) before terminating the training\n",
    "                           mode = 'auto'          #automatically decide the direction of monitoring metrics (if it's val_loss it should go down, it it's val_acc it should go up)\n",
    "                          )\n",
    "\n",
    "#Reduce LR on Plateau\n",
    "reduce_lr = ReduceLROnPlateau(\n",
    "    monitor='val_loss', factor=0.1, patience=8, verbose=0,\n",
    "    mode='auto', min_delta=0.0001, cooldown=0, min_lr=0.00005\n",
    ")\n",
    "\n",
    "def scheduler(epoch, lr):\n",
    "    if epoch < 3:\n",
    "        return lr\n",
    "    else:\n",
    "        return lr * tf.math.exp(-0.1)\n",
    "\n"
   ]
  },
  {
   "cell_type": "code",
   "execution_count": 32,
   "id": "d608a884",
   "metadata": {},
   "outputs": [],
   "source": [
    "def model_func(n_filters = 16, n_lstm = 16, n_dense = 32, dropout_r = 0.2, pool_size = 4, learning_rate = 0.0001, l2_reg = 0.005):\n",
    "    model = Sequential()\n",
    "    model.add(Embedding(len(word_index)+1, 100, input_length = 50, weights = [embedding_matrix], trainable = False))\n",
    "    \n",
    "    #ConvBlock1\n",
    "    model.add(Conv1D(n_filters, 5, activation = 'relu', kernel_regularizer=regularizers.l2(l2_reg)))\n",
    "    model.add(BatchNormalization())\n",
    "    model.add(MaxPooling1D(pool_size=pool_size))\n",
    "    model.add(LSTM(n_lstm, kernel_regularizer=regularizers.l2(l2_reg), dropout = dropout_r, recurrent_dropout = 0.2))\n",
    "    model.add(Dense(n_dense, activation = 'relu'))\n",
    "    model.add(Dropout(dropout_r))\n",
    "    model.add(Dense(1, activation = 'sigmoid'))\n",
    "    model.compile(optimizer = Adam(learning_rate = 0.0002), \n",
    "              loss = 'binary_crossentropy', \n",
    "              metrics = ['accuracy']) \n",
    "    \n",
    "    return model\n",
    "\n",
    "LSTM_regularized_model = KerasClassifier(build_fn=model_func,epochs=50 ,verbose=1, batch_size = 512)\n",
    "\n",
    "params = {\n",
    "    'n_filters': [32,64],\n",
    "    'n_lstm': [16,20],\n",
    "    'n_dense' : [32,64],\n",
    "    'dropout_r' : [0.2,0.4],\n",
    "    'pool_size' : [4,6],\n",
    "    'l2_reg' : [0.001,0.005],\n",
    "    'learning_rate' : [0.0001,0.0002]\n",
    "    \n",
    "}"
   ]
  },
  {
   "cell_type": "code",
   "execution_count": 33,
   "id": "83975806",
   "metadata": {
    "code_folding": [
     0
    ]
   },
   "outputs": [],
   "source": [
    "# gs = GridSearchCV(LSTM_regularized_model, param_grid = params, cv=2)\n",
    "# gs.fit(X_train_padded, y_train)"
   ]
  },
  {
   "cell_type": "code",
   "execution_count": null,
   "id": "86636acb",
   "metadata": {},
   "outputs": [],
   "source": []
  },
  {
   "cell_type": "code",
   "execution_count": null,
   "id": "7c0b8b9d",
   "metadata": {},
   "outputs": [],
   "source": []
  },
  {
   "cell_type": "code",
   "execution_count": null,
   "id": "db4b4b31",
   "metadata": {},
   "outputs": [],
   "source": []
  },
  {
   "cell_type": "code",
   "execution_count": 34,
   "id": "e13323e3",
   "metadata": {},
   "outputs": [],
   "source": [
    "## Manual finetuning"
   ]
  },
  {
   "cell_type": "code",
   "execution_count": 35,
   "id": "e0ca3222",
   "metadata": {},
   "outputs": [
    {
     "name": "stdout",
     "output_type": "stream",
     "text": [
      "Model: \"sequential_2\"\n",
      "_________________________________________________________________\n",
      "Layer (type)                 Output Shape              Param #   \n",
      "=================================================================\n",
      "embedding_1 (Embedding)      (None, 50, 100)           1405800   \n",
      "_________________________________________________________________\n",
      "conv1d_1 (Conv1D)            (None, 46, 32)            16032     \n",
      "_________________________________________________________________\n",
      "batch_normalization_1 (Batch (None, 46, 32)            128       \n",
      "_________________________________________________________________\n",
      "max_pooling1d_1 (MaxPooling1 (None, 11, 32)            0         \n",
      "_________________________________________________________________\n",
      "lstm_1 (LSTM)                (None, 20)                4240      \n",
      "_________________________________________________________________\n",
      "dense_5 (Dense)              (None, 64)                1344      \n",
      "_________________________________________________________________\n",
      "dropout_1 (Dropout)          (None, 64)                0         \n",
      "_________________________________________________________________\n",
      "dense_6 (Dense)              (None, 1)                 65        \n",
      "=================================================================\n",
      "Total params: 1,427,609\n",
      "Trainable params: 21,745\n",
      "Non-trainable params: 1,405,864\n",
      "_________________________________________________________________\n"
     ]
    }
   ],
   "source": [
    "l2_reg = 0.01\n",
    "\n",
    "LSTM_regularized_model = Sequential([\n",
    "    Embedding(len(word_index)+1, 100, input_length = 50, weights = [embedding_matrix], trainable = False),\n",
    "    #ConvBlock1\n",
    "#    Conv1D(64, 5, activation = 'relu', kernel_regularizer=regularizers.l2(l2_reg)),\n",
    "#   BatchNormalization(),\n",
    "#     #ConvBlock2\n",
    "    Conv1D(16, 5, activation = 'relu', kernel_regularizer=regularizers.l2(l2_reg)),\n",
    "#    BatchNormalization(),\n",
    "    MaxPooling1D(pool_size=5),\n",
    "    LSTM(64, kernel_regularizer=regularizers.l2(l2_reg), dropout = 0.30, recurrent_dropout = 0.30),\n",
    "    Dense(16, activation = 'relu'),\n",
    "    Dropout(0.6),\n",
    "    Dense(1, activation = 'sigmoid')\n",
    "])\n",
    "LSTM_regularized_model.summary()"
   ]
  },
  {
   "cell_type": "code",
   "execution_count": 36,
   "id": "add2e4d7",
   "metadata": {},
   "outputs": [],
   "source": [
    "#Early stopping callback\n",
    "early_stop = EarlyStopping(monitor = 'val_loss', \n",
    "                           min_delta = 0, \n",
    "                           patience = 10,          #number of epochs to wait (if val_loss go up) before terminating the training\n",
    "                           mode = 'auto'          #automatically decide the direction of monitoring metrics (if it's val_loss it should go down, it it's val_acc it should go up)\n",
    "                          )\n",
    "\n",
    "#Reduce LR on Plateau\n",
    "reduce_lr = ReduceLROnPlateau(\n",
    "    monitor='val_loss', factor=0.1, patience=8, verbose=0,\n",
    "    mode='auto', min_delta=0.0001, cooldown=0, min_lr=0.00005\n",
    ")\n",
    "\n",
    "def scheduler(epoch, lr):\n",
    "    if epoch < 3:\n",
    "        return lr\n",
    "    else:\n",
    "        return lr * tf.math.exp(-0.1)\n",
    "\n",
    "\n",
    "LSTM_regularized_model.compile(optimizer = Adam(learning_rate = 0.0002), \n",
    "              loss = 'binary_crossentropy', \n",
    "              metrics = ['accuracy']) "
   ]
  },
  {
   "cell_type": "code",
   "execution_count": null,
   "id": "cde2a6e7",
   "metadata": {
    "scrolled": false
   },
   "outputs": [
    {
     "name": "stdout",
     "output_type": "stream",
     "text": [
      "Train on 10540 samples, validate on 2636 samples\n",
      "Epoch 1/100\n"
     ]
    }
   ],
   "source": [
    "LSTM_regularized_history = LSTM_regularized_model.fit(X_train_padded,\n",
    "                   y_train,\n",
    "                   epochs = 100,\n",
    "                   batch_size = 512,\n",
    "                   validation_split = 0.2,\n",
    "                   verbose = 1,\n",
    "                   callbacks = [early_stop, reduce_lr,\n",
    "                                ModelCheckpoint(filepath='model.{epoch:02d}-{val_loss:.2f}.h5',\n",
    "                                                monitor='val_loss', save_best_only=True, mode='min'),\n",
    "                                LearningRateScheduler(scheduler)\n",
    "                                ]\n",
    "                                         )"
   ]
  },
  {
   "cell_type": "code",
   "execution_count": null,
   "id": "faefb845",
   "metadata": {
    "code_folding": []
   },
   "outputs": [],
   "source": [
    "# Check out our train loss and test loss over epochs.\n",
    "train_loss = LSTM_regularized_history.history['loss']\n",
    "test_loss = LSTM_regularized_history.history['val_loss']\n",
    "\n",
    "# Set figure size.\n",
    "plt.figure(figsize=(12, 8))\n",
    "\n",
    "# Generate line plot of training, testing loss over epochs.\n",
    "plt.plot(train_loss, label='Training Loss', color='#185fad')\n",
    "plt.plot(test_loss, label='Validation Loss', color='orange')\n",
    "\n",
    "# Set title\n",
    "plt.title('Training and Validation Loss by Epoch', fontsize = 25)\n",
    "plt.xlabel('Epoch', fontsize = 18)\n",
    "plt.ylabel('Binary Crossentropy', fontsize = 18)\n",
    "\n",
    "\n",
    "plt.legend(fontsize = 18);"
   ]
  },
  {
   "cell_type": "code",
   "execution_count": null,
   "id": "cfbab90d",
   "metadata": {
    "scrolled": false
   },
   "outputs": [],
   "source": [
    "# Check out our train loss and test loss over epochs.\n",
    "train_acc = LSTM_regularized_history.history['accuracy']\n",
    "test_acc = LSTM_regularized_history.history['val_accuracy']\n",
    "\n",
    "# Set figure size.\n",
    "plt.figure(figsize=(12, 8))\n",
    "\n",
    "# Generate line plot of training, testing loss over epochs.\n",
    "plt.plot(train_acc, label='Training Accuracy', color='#185fad')\n",
    "plt.plot(test_acc, label='Validation Accuracy', color='orange')\n",
    "\n",
    "# Set title\n",
    "plt.title('Training and Validation Accuracy by Epoch', fontsize = 25)\n",
    "plt.xlabel('Epoch', fontsize = 18)\n",
    "plt.ylabel('Accuracy', fontsize = 18)\n",
    "# plt.xticks([0, 1, 2, 3, 4], [1, 2, 3, 4, 5])\n",
    "\n",
    "plt.legend(fontsize = 18);"
   ]
  },
  {
   "cell_type": "code",
   "execution_count": null,
   "id": "22611337",
   "metadata": {},
   "outputs": [],
   "source": []
  },
  {
   "cell_type": "code",
   "execution_count": null,
   "id": "c9e01a90",
   "metadata": {},
   "outputs": [],
   "source": []
  },
  {
   "cell_type": "code",
   "execution_count": null,
   "id": "1ef1f7ea",
   "metadata": {},
   "outputs": [],
   "source": []
  }
 ],
 "metadata": {
  "hide_input": false,
  "kernelspec": {
   "display_name": "Python (tfm1)",
   "language": "python",
   "name": "tfm1"
  },
  "language_info": {
   "codemirror_mode": {
    "name": "ipython",
    "version": 3
   },
   "file_extension": ".py",
   "mimetype": "text/x-python",
   "name": "python",
   "nbconvert_exporter": "python",
   "pygments_lexer": "ipython3",
   "version": "3.8.6"
  },
  "toc": {
   "base_numbering": 1,
   "nav_menu": {},
   "number_sections": false,
   "sideBar": true,
   "skip_h1_title": false,
   "title_cell": "Table of Contents",
   "title_sidebar": "Contents",
   "toc_cell": false,
   "toc_position": {
    "height": "calc(100% - 180px)",
    "left": "10px",
    "top": "150px",
    "width": "288px"
   },
   "toc_section_display": true,
   "toc_window_display": true
  },
  "varInspector": {
   "cols": {
    "lenName": 16,
    "lenType": 16,
    "lenVar": 40
   },
   "kernels_config": {
    "python": {
     "delete_cmd_postfix": "",
     "delete_cmd_prefix": "del ",
     "library": "var_list.py",
     "varRefreshCmd": "print(var_dic_list())"
    },
    "r": {
     "delete_cmd_postfix": ") ",
     "delete_cmd_prefix": "rm(",
     "library": "var_list.r",
     "varRefreshCmd": "cat(var_dic_list()) "
    }
   },
   "types_to_exclude": [
    "module",
    "function",
    "builtin_function_or_method",
    "instance",
    "_Feature"
   ],
   "window_display": false
  }
 },
 "nbformat": 4,
 "nbformat_minor": 5
}
